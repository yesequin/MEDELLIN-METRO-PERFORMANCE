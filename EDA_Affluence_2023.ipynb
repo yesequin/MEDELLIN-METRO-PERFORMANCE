{
 "cells": [
  {
   "cell_type": "markdown",
   "id": "e4d65c18-2bd5-4a38-8ec2-0db80f4ac870",
   "metadata": {},
   "source": [
    "**The data used in the Notebook was taken from the Medellin Metro open data website.** https://datosabiertos-metrodemedellin.opendata.arcgis.com/documents/569c4b4c1ad54c3da95aa5f195637db2/about"
   ]
  },
  {
   "cell_type": "markdown",
   "id": "4d19216b-426a-432d-822d-2d0a286bf565",
   "metadata": {},
   "source": [
    "# EDA METRO MEDELLIN"
   ]
  },
  {
   "cell_type": "code",
   "execution_count": 3,
   "id": "bf39c637-e034-43a0-afb6-4a1673db8ee2",
   "metadata": {},
   "outputs": [],
   "source": [
    "#IMPORT NEEDED LIBRARIES\n",
    "import pandas as pd"
   ]
  },
  {
   "cell_type": "code",
   "execution_count": 4,
   "id": "d8cee6da-f1b7-4f05-b759-8f8d4aa0eedd",
   "metadata": {},
   "outputs": [
    {
     "data": {
      "text/html": [
       "<div>\n",
       "<style scoped>\n",
       "    .dataframe tbody tr th:only-of-type {\n",
       "        vertical-align: middle;\n",
       "    }\n",
       "\n",
       "    .dataframe tbody tr th {\n",
       "        vertical-align: top;\n",
       "    }\n",
       "\n",
       "    .dataframe thead th {\n",
       "        text-align: right;\n",
       "    }\n",
       "</style>\n",
       "<table border=\"1\" class=\"dataframe\">\n",
       "  <thead>\n",
       "    <tr style=\"text-align: right;\">\n",
       "      <th></th>\n",
       "      <th>Día</th>\n",
       "      <th>Línea de Servicio</th>\n",
       "      <th>Hora de operación</th>\n",
       "      <th>Unnamed: 3</th>\n",
       "      <th>Unnamed: 4</th>\n",
       "      <th>Unnamed: 5</th>\n",
       "      <th>Unnamed: 6</th>\n",
       "      <th>Unnamed: 7</th>\n",
       "      <th>Unnamed: 8</th>\n",
       "      <th>Unnamed: 9</th>\n",
       "      <th>...</th>\n",
       "      <th>Unnamed: 13</th>\n",
       "      <th>Unnamed: 14</th>\n",
       "      <th>Unnamed: 15</th>\n",
       "      <th>Unnamed: 16</th>\n",
       "      <th>Unnamed: 17</th>\n",
       "      <th>Unnamed: 18</th>\n",
       "      <th>Unnamed: 19</th>\n",
       "      <th>Unnamed: 20</th>\n",
       "      <th>Unnamed: 21</th>\n",
       "      <th>Unnamed: 22</th>\n",
       "    </tr>\n",
       "  </thead>\n",
       "  <tbody>\n",
       "    <tr>\n",
       "      <th>0</th>\n",
       "      <td>NaN</td>\n",
       "      <td>NaN</td>\n",
       "      <td>4:00</td>\n",
       "      <td>5:00</td>\n",
       "      <td>6:00</td>\n",
       "      <td>7:00</td>\n",
       "      <td>8:00</td>\n",
       "      <td>9:00</td>\n",
       "      <td>10:00</td>\n",
       "      <td>11:00</td>\n",
       "      <td>...</td>\n",
       "      <td>15:00</td>\n",
       "      <td>16:00</td>\n",
       "      <td>17:00</td>\n",
       "      <td>18:00</td>\n",
       "      <td>19:00</td>\n",
       "      <td>20:00</td>\n",
       "      <td>21:00</td>\n",
       "      <td>22:00</td>\n",
       "      <td>23:00</td>\n",
       "      <td>Total general (Número de pasajeros)</td>\n",
       "    </tr>\n",
       "    <tr>\n",
       "      <th>1</th>\n",
       "      <td>01/01/2023</td>\n",
       "      <td>LÍNEA 1</td>\n",
       "      <td>192</td>\n",
       "      <td>811</td>\n",
       "      <td>896</td>\n",
       "      <td>716</td>\n",
       "      <td>673</td>\n",
       "      <td>922</td>\n",
       "      <td>1,023</td>\n",
       "      <td>1,208</td>\n",
       "      <td>...</td>\n",
       "      <td>1,629</td>\n",
       "      <td>1,985</td>\n",
       "      <td>2,361</td>\n",
       "      <td>2,694</td>\n",
       "      <td>2,303</td>\n",
       "      <td>1,839</td>\n",
       "      <td>1,478</td>\n",
       "      <td>236</td>\n",
       "      <td>NaN</td>\n",
       "      <td>25,483</td>\n",
       "    </tr>\n",
       "    <tr>\n",
       "      <th>2</th>\n",
       "      <td>01/01/2023</td>\n",
       "      <td>LÍNEA 2</td>\n",
       "      <td>11</td>\n",
       "      <td>123</td>\n",
       "      <td>116</td>\n",
       "      <td>95</td>\n",
       "      <td>102</td>\n",
       "      <td>144</td>\n",
       "      <td>147</td>\n",
       "      <td>189</td>\n",
       "      <td>...</td>\n",
       "      <td>191</td>\n",
       "      <td>255</td>\n",
       "      <td>280</td>\n",
       "      <td>317</td>\n",
       "      <td>252</td>\n",
       "      <td>164</td>\n",
       "      <td>111</td>\n",
       "      <td>7</td>\n",
       "      <td>NaN</td>\n",
       "      <td>3,210</td>\n",
       "    </tr>\n",
       "    <tr>\n",
       "      <th>3</th>\n",
       "      <td>01/01/2023</td>\n",
       "      <td>LÍNEA A</td>\n",
       "      <td>1,328.00</td>\n",
       "      <td>5,104.00</td>\n",
       "      <td>5,701.00</td>\n",
       "      <td>4,309.00</td>\n",
       "      <td>4,054</td>\n",
       "      <td>4,852</td>\n",
       "      <td>5,880</td>\n",
       "      <td>7,629</td>\n",
       "      <td>...</td>\n",
       "      <td>10,999</td>\n",
       "      <td>13,027</td>\n",
       "      <td>15,965</td>\n",
       "      <td>19,123</td>\n",
       "      <td>15,663</td>\n",
       "      <td>12,918</td>\n",
       "      <td>9,509</td>\n",
       "      <td>819</td>\n",
       "      <td>NaN</td>\n",
       "      <td>166,047</td>\n",
       "    </tr>\n",
       "    <tr>\n",
       "      <th>4</th>\n",
       "      <td>01/01/2024</td>\n",
       "      <td>LÍNEA B</td>\n",
       "      <td>221.00</td>\n",
       "      <td>701.00</td>\n",
       "      <td>750.00</td>\n",
       "      <td>655.00</td>\n",
       "      <td>628</td>\n",
       "      <td>863</td>\n",
       "      <td>1,085</td>\n",
       "      <td>1,228</td>\n",
       "      <td>...</td>\n",
       "      <td>1,930</td>\n",
       "      <td>2,247</td>\n",
       "      <td>2,498</td>\n",
       "      <td>2,648</td>\n",
       "      <td>2,029</td>\n",
       "      <td>1,472</td>\n",
       "      <td>1,087</td>\n",
       "      <td>151</td>\n",
       "      <td>NaN</td>\n",
       "      <td>25,106</td>\n",
       "    </tr>\n",
       "  </tbody>\n",
       "</table>\n",
       "<p>5 rows × 23 columns</p>\n",
       "</div>"
      ],
      "text/plain": [
       "          Día Línea de Servicio Hora de operación Unnamed: 3 Unnamed: 4  \\\n",
       "0         NaN               NaN              4:00       5:00       6:00   \n",
       "1  01/01/2023           LÍNEA 1              192        811        896    \n",
       "2  01/01/2023           LÍNEA 2               11        123        116    \n",
       "3  01/01/2023           LÍNEA A         1,328.00   5,104.00   5,701.00    \n",
       "4  01/01/2024           LÍNEA B           221.00     701.00     750.00    \n",
       "\n",
       "  Unnamed: 5 Unnamed: 6 Unnamed: 7 Unnamed: 8 Unnamed: 9  ... Unnamed: 13  \\\n",
       "0       7:00       8:00       9:00      10:00      11:00  ...       15:00   \n",
       "1       716        673        922      1,023      1,208   ...      1,629    \n",
       "2        95        102        144        147        189   ...        191    \n",
       "3  4,309.00      4,054      4,852      5,880      7,629   ...     10,999    \n",
       "4    655.00        628        863      1,085      1,228   ...      1,930    \n",
       "\n",
       "  Unnamed: 14 Unnamed: 15 Unnamed: 16 Unnamed: 17 Unnamed: 18 Unnamed: 19  \\\n",
       "0       16:00       17:00       18:00       19:00       20:00       21:00   \n",
       "1      1,985       2,361       2,694       2,303       1,839       1,478    \n",
       "2        255         280         317         252         164         111    \n",
       "3     13,027      15,965      19,123      15,663      12,918       9,509    \n",
       "4      2,247       2,498       2,648       2,029       1,472       1,087    \n",
       "\n",
       "  Unnamed: 20 Unnamed: 21                          Unnamed: 22  \n",
       "0       22:00       23:00  Total general (Número de pasajeros)  \n",
       "1        236          NaN                              25,483   \n",
       "2          7          NaN                               3,210   \n",
       "3        819          NaN                             166,047   \n",
       "4        151          NaN                              25,106   \n",
       "\n",
       "[5 rows x 23 columns]"
      ]
     },
     "execution_count": 4,
     "metadata": {},
     "output_type": "execute_result"
    }
   ],
   "source": [
    "# IMPORT THE DATA INTO THE STRUCTURE OF A DATAFRAME\n",
    "df_affluence = pd.read_csv('data/Afluencia_2023.csv')\n",
    "df_affluence.head(5)"
   ]
  },
  {
   "cell_type": "markdown",
   "id": "f6482b58-cde2-49e8-92e6-a3a447dccf80",
   "metadata": {},
   "source": [
    "## Checking headers"
   ]
  },
  {
   "cell_type": "code",
   "execution_count": 6,
   "id": "64dae2a4-0cbc-4c13-bb41-afa7948790e9",
   "metadata": {},
   "outputs": [
    {
     "data": {
      "text/plain": [
       "(4304, 23)"
      ]
     },
     "execution_count": 6,
     "metadata": {},
     "output_type": "execute_result"
    }
   ],
   "source": [
    "df_affluence.shape"
   ]
  },
  {
   "cell_type": "markdown",
   "id": "db49ddb5-4e50-435f-9a80-65c66441f20c",
   "metadata": {},
   "source": [
    "- There are 4,304 rows and 23 columns. We need to delete the first row and rename the name of all columns."
   ]
  },
  {
   "cell_type": "code",
   "execution_count": 8,
   "id": "1d919cd4-5df4-41dd-822c-3d7305217d50",
   "metadata": {},
   "outputs": [],
   "source": [
    "#Renaming columns to English\n",
    "df_affluence= df_affluence.rename(columns={\n",
    "    \"Día\":\"Day\",\n",
    "    \"Línea de Servicio\": \"Service_Line\",\n",
    "    \"Hora de operación\": \"04:00\",\n",
    "    \"Unnamed: 3\": \"05:00\",\n",
    "    \"Unnamed: 4\": \"06:00\",\n",
    "    \"Unnamed: 5\": \"07:00\",\n",
    "    \"Unnamed: 6\": \"08:00\",\n",
    "    \"Unnamed: 7\": \"09:00\",\n",
    "    \"Unnamed: 8\": \"10:00\",\n",
    "    \"Unnamed: 9\": \"11:00\",\n",
    "    \"Unnamed: 10\": \"12:00\",\n",
    "    \"Unnamed: 11\": \"13:00\",\n",
    "    \"Unnamed: 12\": \"14:00\",\n",
    "    \"Unnamed: 13\": \"15:00\",\n",
    "    \"Unnamed: 14\": \"16:00\",\n",
    "    \"Unnamed: 15\": \"17:00\",\n",
    "    \"Unnamed: 16\": \"18:00\",\n",
    "    \"Unnamed: 17\": \"19:00\",\n",
    "    \"Unnamed: 18\": \"20:00\",\n",
    "    \"Unnamed: 19\": \"21:00\",\n",
    "    \"Unnamed: 20\": \"22:00\",\n",
    "    \"Unnamed: 21\": \"23:00\",\n",
    "    \"Unnamed: 22\": \"Grand Total (Number of passengers)\"    \n",
    "})\n",
    "\n",
    "df_affluence = df_affluence.drop(df_affluence.index[0]) #Deleting the first row"
   ]
  },
  {
   "cell_type": "markdown",
   "id": "6a7976bd-eb85-4416-8945-b3c97238fce7",
   "metadata": {},
   "source": [
    "## Checking Null or NA Values"
   ]
  },
  {
   "cell_type": "code",
   "execution_count": 10,
   "id": "9947d554-33e2-40ce-9436-1dc01cfc6ef6",
   "metadata": {},
   "outputs": [
    {
     "name": "stdout",
     "output_type": "stream",
     "text": [
      "<class 'pandas.core.frame.DataFrame'>\n",
      "RangeIndex: 4303 entries, 1 to 4303\n",
      "Data columns (total 23 columns):\n",
      " #   Column                              Non-Null Count  Dtype \n",
      "---  ------                              --------------  ----- \n",
      " 0   Day                                 4303 non-null   object\n",
      " 1   Service_Line                        4303 non-null   object\n",
      " 2   04:00                               3638 non-null   object\n",
      " 3   05:00                               3643 non-null   object\n",
      " 4   06:00                               3647 non-null   object\n",
      " 5   07:00                               3646 non-null   object\n",
      " 6   08:00                               4092 non-null   object\n",
      " 7   09:00                               4290 non-null   object\n",
      " 8   10:00                               4289 non-null   object\n",
      " 9   11:00                               4289 non-null   object\n",
      " 10  12:00                               4293 non-null   object\n",
      " 11  13:00                               4294 non-null   object\n",
      " 12  14:00                               4295 non-null   object\n",
      " 13  15:00                               4290 non-null   object\n",
      " 14  16:00                               4291 non-null   object\n",
      " 15  17:00                               4296 non-null   object\n",
      " 16  18:00                               4055 non-null   object\n",
      " 17  19:00                               3981 non-null   object\n",
      " 18  20:00                               3983 non-null   object\n",
      " 19  21:00                               3984 non-null   object\n",
      " 20  22:00                               3946 non-null   object\n",
      " 21  23:00                               2001 non-null   object\n",
      " 22  Grand Total (Number of passengers)  4303 non-null   object\n",
      "dtypes: object(23)\n",
      "memory usage: 773.3+ KB\n"
     ]
    }
   ],
   "source": [
    "df_affluence.info()"
   ]
  },
  {
   "cell_type": "markdown",
   "id": "32eb5264-92e2-456c-baf9-0548beecb6fc",
   "metadata": {},
   "source": [
    "- All NaN values must be replaced with 0."
   ]
  },
  {
   "cell_type": "code",
   "execution_count": 12,
   "id": "0d1e9ccb-89b1-4db6-b3a9-05d2288e1848",
   "metadata": {},
   "outputs": [],
   "source": [
    "df_affluence.fillna('0',inplace = True) #replacing missing values with str 0"
   ]
  },
  {
   "cell_type": "markdown",
   "id": "29f26cca-04ac-4da0-8d8c-b57924ceaa00",
   "metadata": {},
   "source": [
    "## Checking Datatypes"
   ]
  },
  {
   "cell_type": "code",
   "execution_count": 14,
   "id": "156ce230-83f2-4eae-965a-ac8f2f89d695",
   "metadata": {},
   "outputs": [
    {
     "data": {
      "text/plain": [
       "Day                                   object\n",
       "Service_Line                          object\n",
       "04:00                                 object\n",
       "05:00                                 object\n",
       "06:00                                 object\n",
       "07:00                                 object\n",
       "08:00                                 object\n",
       "09:00                                 object\n",
       "10:00                                 object\n",
       "11:00                                 object\n",
       "12:00                                 object\n",
       "13:00                                 object\n",
       "14:00                                 object\n",
       "15:00                                 object\n",
       "16:00                                 object\n",
       "17:00                                 object\n",
       "18:00                                 object\n",
       "19:00                                 object\n",
       "20:00                                 object\n",
       "21:00                                 object\n",
       "22:00                                 object\n",
       "23:00                                 object\n",
       "Grand Total (Number of passengers)    object\n",
       "dtype: object"
      ]
     },
     "execution_count": 14,
     "metadata": {},
     "output_type": "execute_result"
    }
   ],
   "source": [
    "df_affluence.dtypes"
   ]
  },
  {
   "cell_type": "markdown",
   "id": "cd55e594-65e4-4de9-b3ca-cf8ffb7cfc40",
   "metadata": {},
   "source": [
    "- \"Day\" column should be Date datatype (DDMMYYYY)\n",
    "- Column's index from 2 to 22 should be int64 datatype\n"
   ]
  },
  {
   "cell_type": "code",
   "execution_count": 16,
   "id": "77fbc0d1-c3b1-452f-9fe0-a77f9dd9e3a8",
   "metadata": {},
   "outputs": [],
   "source": [
    "# *Changing \"Day\" column datatype\n",
    "from datetime import datetime\n",
    "df_affluence[\"Day\"] = pd.to_datetime(df_affluence[\"Day\"], format='%d/%m/%Y')\n",
    "df_affluence.dtypes\n",
    "\n",
    "# *Changing datatype from columns 2 to 22.\n",
    "objectdt_columns = list(df_affluence.select_dtypes(include=['object']).columns[1:]) #creating a list with all the columns with dtype = object, except for the first one\n",
    "              \n",
    "def change_datatype(row):\n",
    "    casted_int = 0\n",
    "    if isinstance(row,str):\n",
    "        row = row.replace(\",\",\"\").strip().replace(\".00\",\"\") #the commas inside the columns must be deleted.\n",
    "    try:\n",
    "        casted_int = int(row)\n",
    "    except Exception as err:\n",
    "        print(f'error: {err}')\n",
    "    \n",
    "    return casted_int\n",
    "\n",
    "df_affluence[objectdt_columns] = df_affluence[objectdt_columns].map(change_datatype)"
   ]
  },
  {
   "cell_type": "code",
   "execution_count": 17,
   "id": "5c7933da-02cc-4566-9bcc-9f139b422f52",
   "metadata": {
    "scrolled": true
   },
   "outputs": [
    {
     "name": "stdout",
     "output_type": "stream",
     "text": [
      "<class 'pandas.core.frame.DataFrame'>\n",
      "RangeIndex: 4303 entries, 1 to 4303\n",
      "Data columns (total 23 columns):\n",
      " #   Column                              Non-Null Count  Dtype         \n",
      "---  ------                              --------------  -----         \n",
      " 0   Day                                 4303 non-null   datetime64[ns]\n",
      " 1   Service_Line                        4303 non-null   object        \n",
      " 2   04:00                               4303 non-null   int64         \n",
      " 3   05:00                               4303 non-null   int64         \n",
      " 4   06:00                               4303 non-null   int64         \n",
      " 5   07:00                               4303 non-null   int64         \n",
      " 6   08:00                               4303 non-null   int64         \n",
      " 7   09:00                               4303 non-null   int64         \n",
      " 8   10:00                               4303 non-null   int64         \n",
      " 9   11:00                               4303 non-null   int64         \n",
      " 10  12:00                               4303 non-null   int64         \n",
      " 11  13:00                               4303 non-null   int64         \n",
      " 12  14:00                               4303 non-null   int64         \n",
      " 13  15:00                               4303 non-null   int64         \n",
      " 14  16:00                               4303 non-null   int64         \n",
      " 15  17:00                               4303 non-null   int64         \n",
      " 16  18:00                               4303 non-null   int64         \n",
      " 17  19:00                               4303 non-null   int64         \n",
      " 18  20:00                               4303 non-null   int64         \n",
      " 19  21:00                               4303 non-null   int64         \n",
      " 20  22:00                               4303 non-null   int64         \n",
      " 21  23:00                               4303 non-null   int64         \n",
      " 22  Grand Total (Number of passengers)  4303 non-null   int64         \n",
      "dtypes: datetime64[ns](1), int64(21), object(1)\n",
      "memory usage: 773.3+ KB\n"
     ]
    }
   ],
   "source": [
    "df_affluence.info() #Checking"
   ]
  },
  {
   "cell_type": "markdown",
   "id": "206ca8b9-07e2-4b57-9eed-64bde3626989",
   "metadata": {},
   "source": [
    "## Checking rows"
   ]
  },
  {
   "cell_type": "markdown",
   "id": "8d1e1d1f-af91-4f63-8743-b6706106ca0c",
   "metadata": {},
   "source": [
    "Lets check the rows on \"Day\" and \"Service_Line\" columns:"
   ]
  },
  {
   "cell_type": "code",
   "execution_count": 20,
   "id": "7c7ccecf-5cba-417e-8d56-9ec35b6d47a5",
   "metadata": {},
   "outputs": [
    {
     "name": "stdout",
     "output_type": "stream",
     "text": [
      "years:[2023 2024]\n",
      " months: [ 1  2  3  4  5  6  7  8  9 10 11 12]\n",
      " days: [ 1  2  3  4  5  6  7  8  9 10 11 12 13 14 15 16 17 18 19 20 21 22 23 24\n",
      " 25 26 27 28 29 30 31]\n"
     ]
    }
   ],
   "source": [
    "#Checking the date range of the data (\"Day\" column)\n",
    "unique_years = df_affluence['Day'].dt.year.unique()\n",
    "unique_months = df_affluence['Day'].dt.month.unique()\n",
    "unique_days = df_affluence['Day'].dt.day.unique()\n",
    "print(f'years:{unique_years}\\n months: {unique_months}\\n days: {unique_days}')"
   ]
  },
  {
   "cell_type": "code",
   "execution_count": 21,
   "id": "24fc6fd5-2bc6-46d8-9844-067f5cd3ab2f",
   "metadata": {},
   "outputs": [
    {
     "data": {
      "text/plain": [
       "['LÍNEA 1',\n",
       " 'LÍNEA 2',\n",
       " 'LÍNEA A',\n",
       " 'LÍNEA B',\n",
       " 'LÍNEA H',\n",
       " 'LÍNEA J',\n",
       " 'LÍNEA K',\n",
       " 'LÍNEA L',\n",
       " 'LÍNEA M',\n",
       " 'LÍNEA O',\n",
       " 'LÍNEA P',\n",
       " 'LÍNEA T-A']"
      ]
     },
     "execution_count": 21,
     "metadata": {},
     "output_type": "execute_result"
    }
   ],
   "source": [
    "list(df_affluence[\"Service_Line\"].unique())"
   ]
  },
  {
   "cell_type": "markdown",
   "id": "aa548cd2-6956-4e7d-8818-0c70f8e52a05",
   "metadata": {},
   "source": [
    "- In column \"Day\" there is a date from 2024. We choose to remove it, since there should be only data from 2023.\n",
    "- In column \"Service_Line\" there is an atypical line 'LÍNEA T-A'. After further investigation, line 'LÍNEA T-A' is actually 'LÍNEA T', so we need to replace this value on all rows."
   ]
  },
  {
   "cell_type": "code",
   "execution_count": 23,
   "id": "1f72ff7c-cf87-4688-86d9-54bfa79b92e0",
   "metadata": {},
   "outputs": [
    {
     "data": {
      "text/html": [
       "<div>\n",
       "<style scoped>\n",
       "    .dataframe tbody tr th:only-of-type {\n",
       "        vertical-align: middle;\n",
       "    }\n",
       "\n",
       "    .dataframe tbody tr th {\n",
       "        vertical-align: top;\n",
       "    }\n",
       "\n",
       "    .dataframe thead th {\n",
       "        text-align: right;\n",
       "    }\n",
       "</style>\n",
       "<table border=\"1\" class=\"dataframe\">\n",
       "  <thead>\n",
       "    <tr style=\"text-align: right;\">\n",
       "      <th></th>\n",
       "      <th>Day</th>\n",
       "      <th>Service_Line</th>\n",
       "      <th>04:00</th>\n",
       "      <th>05:00</th>\n",
       "      <th>06:00</th>\n",
       "      <th>07:00</th>\n",
       "      <th>08:00</th>\n",
       "      <th>09:00</th>\n",
       "      <th>10:00</th>\n",
       "      <th>11:00</th>\n",
       "      <th>...</th>\n",
       "      <th>15:00</th>\n",
       "      <th>16:00</th>\n",
       "      <th>17:00</th>\n",
       "      <th>18:00</th>\n",
       "      <th>19:00</th>\n",
       "      <th>20:00</th>\n",
       "      <th>21:00</th>\n",
       "      <th>22:00</th>\n",
       "      <th>23:00</th>\n",
       "      <th>Grand Total (Number of passengers)</th>\n",
       "    </tr>\n",
       "  </thead>\n",
       "  <tbody>\n",
       "    <tr>\n",
       "      <th>4</th>\n",
       "      <td>2024-01-01</td>\n",
       "      <td>LÍNEA B</td>\n",
       "      <td>221</td>\n",
       "      <td>701</td>\n",
       "      <td>750</td>\n",
       "      <td>655</td>\n",
       "      <td>628</td>\n",
       "      <td>863</td>\n",
       "      <td>1085</td>\n",
       "      <td>1228</td>\n",
       "      <td>...</td>\n",
       "      <td>1930</td>\n",
       "      <td>2247</td>\n",
       "      <td>2498</td>\n",
       "      <td>2648</td>\n",
       "      <td>2029</td>\n",
       "      <td>1472</td>\n",
       "      <td>1087</td>\n",
       "      <td>151</td>\n",
       "      <td>0</td>\n",
       "      <td>25106</td>\n",
       "    </tr>\n",
       "  </tbody>\n",
       "</table>\n",
       "<p>1 rows × 23 columns</p>\n",
       "</div>"
      ],
      "text/plain": [
       "         Day Service_Line  04:00  05:00  06:00  07:00  08:00  09:00  10:00  \\\n",
       "4 2024-01-01      LÍNEA B    221    701    750    655    628    863   1085   \n",
       "\n",
       "   11:00  ...  15:00  16:00  17:00  18:00  19:00  20:00  21:00  22:00  23:00  \\\n",
       "4   1228  ...   1930   2247   2498   2648   2029   1472   1087    151      0   \n",
       "\n",
       "   Grand Total (Number of passengers)  \n",
       "4                               25106  \n",
       "\n",
       "[1 rows x 23 columns]"
      ]
     },
     "execution_count": 23,
     "metadata": {},
     "output_type": "execute_result"
    }
   ],
   "source": [
    "year_2024 = 2024\n",
    "\n",
    "rows_2024 = df_affluence[df_affluence['Day'].dt.year == 2024] #Checking which rows have 2024 data.\n",
    "\n",
    "rows_2024.head()"
   ]
  },
  {
   "cell_type": "markdown",
   "id": "52deb57d-8c89-4170-b7fe-3ce926df5399",
   "metadata": {},
   "source": [
    "There is only 1 row with 2024 data, located on index 4"
   ]
  },
  {
   "cell_type": "code",
   "execution_count": 25,
   "id": "b95961ff-2733-43dd-af1c-f76f42cdc38f",
   "metadata": {},
   "outputs": [
    {
     "data": {
      "text/html": [
       "<div>\n",
       "<style scoped>\n",
       "    .dataframe tbody tr th:only-of-type {\n",
       "        vertical-align: middle;\n",
       "    }\n",
       "\n",
       "    .dataframe tbody tr th {\n",
       "        vertical-align: top;\n",
       "    }\n",
       "\n",
       "    .dataframe thead th {\n",
       "        text-align: right;\n",
       "    }\n",
       "</style>\n",
       "<table border=\"1\" class=\"dataframe\">\n",
       "  <thead>\n",
       "    <tr style=\"text-align: right;\">\n",
       "      <th></th>\n",
       "      <th>index</th>\n",
       "      <th>Day</th>\n",
       "      <th>Service_Line</th>\n",
       "      <th>04:00</th>\n",
       "      <th>05:00</th>\n",
       "      <th>06:00</th>\n",
       "      <th>07:00</th>\n",
       "      <th>08:00</th>\n",
       "      <th>09:00</th>\n",
       "      <th>10:00</th>\n",
       "      <th>...</th>\n",
       "      <th>15:00</th>\n",
       "      <th>16:00</th>\n",
       "      <th>17:00</th>\n",
       "      <th>18:00</th>\n",
       "      <th>19:00</th>\n",
       "      <th>20:00</th>\n",
       "      <th>21:00</th>\n",
       "      <th>22:00</th>\n",
       "      <th>23:00</th>\n",
       "      <th>Grand Total (Number of passengers)</th>\n",
       "    </tr>\n",
       "  </thead>\n",
       "  <tbody>\n",
       "    <tr>\n",
       "      <th>0</th>\n",
       "      <td>1</td>\n",
       "      <td>2023-01-01</td>\n",
       "      <td>LÍNEA 1</td>\n",
       "      <td>192</td>\n",
       "      <td>811</td>\n",
       "      <td>896</td>\n",
       "      <td>716</td>\n",
       "      <td>673</td>\n",
       "      <td>922</td>\n",
       "      <td>1023</td>\n",
       "      <td>...</td>\n",
       "      <td>1629</td>\n",
       "      <td>1985</td>\n",
       "      <td>2361</td>\n",
       "      <td>2694</td>\n",
       "      <td>2303</td>\n",
       "      <td>1839</td>\n",
       "      <td>1478</td>\n",
       "      <td>236</td>\n",
       "      <td>0</td>\n",
       "      <td>25483</td>\n",
       "    </tr>\n",
       "    <tr>\n",
       "      <th>1</th>\n",
       "      <td>2</td>\n",
       "      <td>2023-01-01</td>\n",
       "      <td>LÍNEA 2</td>\n",
       "      <td>11</td>\n",
       "      <td>123</td>\n",
       "      <td>116</td>\n",
       "      <td>95</td>\n",
       "      <td>102</td>\n",
       "      <td>144</td>\n",
       "      <td>147</td>\n",
       "      <td>...</td>\n",
       "      <td>191</td>\n",
       "      <td>255</td>\n",
       "      <td>280</td>\n",
       "      <td>317</td>\n",
       "      <td>252</td>\n",
       "      <td>164</td>\n",
       "      <td>111</td>\n",
       "      <td>7</td>\n",
       "      <td>0</td>\n",
       "      <td>3210</td>\n",
       "    </tr>\n",
       "    <tr>\n",
       "      <th>2</th>\n",
       "      <td>3</td>\n",
       "      <td>2023-01-01</td>\n",
       "      <td>LÍNEA A</td>\n",
       "      <td>1328</td>\n",
       "      <td>5104</td>\n",
       "      <td>5701</td>\n",
       "      <td>4309</td>\n",
       "      <td>4054</td>\n",
       "      <td>4852</td>\n",
       "      <td>5880</td>\n",
       "      <td>...</td>\n",
       "      <td>10999</td>\n",
       "      <td>13027</td>\n",
       "      <td>15965</td>\n",
       "      <td>19123</td>\n",
       "      <td>15663</td>\n",
       "      <td>12918</td>\n",
       "      <td>9509</td>\n",
       "      <td>819</td>\n",
       "      <td>0</td>\n",
       "      <td>166047</td>\n",
       "    </tr>\n",
       "    <tr>\n",
       "      <th>3</th>\n",
       "      <td>5</td>\n",
       "      <td>2023-01-01</td>\n",
       "      <td>LÍNEA H</td>\n",
       "      <td>0</td>\n",
       "      <td>0</td>\n",
       "      <td>0</td>\n",
       "      <td>0</td>\n",
       "      <td>0</td>\n",
       "      <td>56</td>\n",
       "      <td>62</td>\n",
       "      <td>...</td>\n",
       "      <td>55</td>\n",
       "      <td>128</td>\n",
       "      <td>99</td>\n",
       "      <td>109</td>\n",
       "      <td>68</td>\n",
       "      <td>46</td>\n",
       "      <td>27</td>\n",
       "      <td>1</td>\n",
       "      <td>0</td>\n",
       "      <td>970</td>\n",
       "    </tr>\n",
       "    <tr>\n",
       "      <th>4</th>\n",
       "      <td>6</td>\n",
       "      <td>2023-01-01</td>\n",
       "      <td>LÍNEA J</td>\n",
       "      <td>0</td>\n",
       "      <td>0</td>\n",
       "      <td>0</td>\n",
       "      <td>0</td>\n",
       "      <td>0</td>\n",
       "      <td>470</td>\n",
       "      <td>410</td>\n",
       "      <td>...</td>\n",
       "      <td>688</td>\n",
       "      <td>710</td>\n",
       "      <td>857</td>\n",
       "      <td>933</td>\n",
       "      <td>651</td>\n",
       "      <td>311</td>\n",
       "      <td>146</td>\n",
       "      <td>3</td>\n",
       "      <td>0</td>\n",
       "      <td>7209</td>\n",
       "    </tr>\n",
       "    <tr>\n",
       "      <th>...</th>\n",
       "      <td>...</td>\n",
       "      <td>...</td>\n",
       "      <td>...</td>\n",
       "      <td>...</td>\n",
       "      <td>...</td>\n",
       "      <td>...</td>\n",
       "      <td>...</td>\n",
       "      <td>...</td>\n",
       "      <td>...</td>\n",
       "      <td>...</td>\n",
       "      <td>...</td>\n",
       "      <td>...</td>\n",
       "      <td>...</td>\n",
       "      <td>...</td>\n",
       "      <td>...</td>\n",
       "      <td>...</td>\n",
       "      <td>...</td>\n",
       "      <td>...</td>\n",
       "      <td>...</td>\n",
       "      <td>...</td>\n",
       "      <td>...</td>\n",
       "    </tr>\n",
       "    <tr>\n",
       "      <th>4297</th>\n",
       "      <td>4299</td>\n",
       "      <td>2023-12-31</td>\n",
       "      <td>LÍNEA L</td>\n",
       "      <td>0</td>\n",
       "      <td>0</td>\n",
       "      <td>0</td>\n",
       "      <td>0</td>\n",
       "      <td>22</td>\n",
       "      <td>88</td>\n",
       "      <td>204</td>\n",
       "      <td>...</td>\n",
       "      <td>273</td>\n",
       "      <td>254</td>\n",
       "      <td>92</td>\n",
       "      <td>0</td>\n",
       "      <td>0</td>\n",
       "      <td>0</td>\n",
       "      <td>0</td>\n",
       "      <td>0</td>\n",
       "      <td>0</td>\n",
       "      <td>2389</td>\n",
       "    </tr>\n",
       "    <tr>\n",
       "      <th>4298</th>\n",
       "      <td>4300</td>\n",
       "      <td>2023-12-31</td>\n",
       "      <td>LÍNEA M</td>\n",
       "      <td>0</td>\n",
       "      <td>0</td>\n",
       "      <td>0</td>\n",
       "      <td>1</td>\n",
       "      <td>12</td>\n",
       "      <td>296</td>\n",
       "      <td>295</td>\n",
       "      <td>...</td>\n",
       "      <td>420</td>\n",
       "      <td>413</td>\n",
       "      <td>400</td>\n",
       "      <td>587</td>\n",
       "      <td>511</td>\n",
       "      <td>431</td>\n",
       "      <td>100</td>\n",
       "      <td>0</td>\n",
       "      <td>0</td>\n",
       "      <td>4873</td>\n",
       "    </tr>\n",
       "    <tr>\n",
       "      <th>4299</th>\n",
       "      <td>4301</td>\n",
       "      <td>2023-12-31</td>\n",
       "      <td>LÍNEA O</td>\n",
       "      <td>25</td>\n",
       "      <td>314</td>\n",
       "      <td>236</td>\n",
       "      <td>237</td>\n",
       "      <td>224</td>\n",
       "      <td>319</td>\n",
       "      <td>282</td>\n",
       "      <td>...</td>\n",
       "      <td>279</td>\n",
       "      <td>300</td>\n",
       "      <td>412</td>\n",
       "      <td>477</td>\n",
       "      <td>339</td>\n",
       "      <td>168</td>\n",
       "      <td>38</td>\n",
       "      <td>0</td>\n",
       "      <td>0</td>\n",
       "      <td>4758</td>\n",
       "    </tr>\n",
       "    <tr>\n",
       "      <th>4300</th>\n",
       "      <td>4302</td>\n",
       "      <td>2023-12-31</td>\n",
       "      <td>LÍNEA P</td>\n",
       "      <td>0</td>\n",
       "      <td>0</td>\n",
       "      <td>0</td>\n",
       "      <td>0</td>\n",
       "      <td>76</td>\n",
       "      <td>696</td>\n",
       "      <td>693</td>\n",
       "      <td>...</td>\n",
       "      <td>590</td>\n",
       "      <td>700</td>\n",
       "      <td>625</td>\n",
       "      <td>659</td>\n",
       "      <td>634</td>\n",
       "      <td>662</td>\n",
       "      <td>61</td>\n",
       "      <td>0</td>\n",
       "      <td>0</td>\n",
       "      <td>7768</td>\n",
       "    </tr>\n",
       "    <tr>\n",
       "      <th>4301</th>\n",
       "      <td>4303</td>\n",
       "      <td>2023-12-31</td>\n",
       "      <td>LÍNEA T-A</td>\n",
       "      <td>135</td>\n",
       "      <td>595</td>\n",
       "      <td>711</td>\n",
       "      <td>723</td>\n",
       "      <td>1049</td>\n",
       "      <td>1207</td>\n",
       "      <td>1277</td>\n",
       "      <td>...</td>\n",
       "      <td>1783</td>\n",
       "      <td>1899</td>\n",
       "      <td>1943</td>\n",
       "      <td>2308</td>\n",
       "      <td>1917</td>\n",
       "      <td>1613</td>\n",
       "      <td>328</td>\n",
       "      <td>0</td>\n",
       "      <td>0</td>\n",
       "      <td>23961</td>\n",
       "    </tr>\n",
       "  </tbody>\n",
       "</table>\n",
       "<p>4302 rows × 24 columns</p>\n",
       "</div>"
      ],
      "text/plain": [
       "      index        Day Service_Line  04:00  05:00  06:00  07:00  08:00  09:00  \\\n",
       "0         1 2023-01-01      LÍNEA 1    192    811    896    716    673    922   \n",
       "1         2 2023-01-01      LÍNEA 2     11    123    116     95    102    144   \n",
       "2         3 2023-01-01      LÍNEA A   1328   5104   5701   4309   4054   4852   \n",
       "3         5 2023-01-01      LÍNEA H      0      0      0      0      0     56   \n",
       "4         6 2023-01-01      LÍNEA J      0      0      0      0      0    470   \n",
       "...     ...        ...          ...    ...    ...    ...    ...    ...    ...   \n",
       "4297   4299 2023-12-31      LÍNEA L      0      0      0      0     22     88   \n",
       "4298   4300 2023-12-31      LÍNEA M      0      0      0      1     12    296   \n",
       "4299   4301 2023-12-31      LÍNEA O     25    314    236    237    224    319   \n",
       "4300   4302 2023-12-31      LÍNEA P      0      0      0      0     76    696   \n",
       "4301   4303 2023-12-31    LÍNEA T-A    135    595    711    723   1049   1207   \n",
       "\n",
       "      10:00  ...  15:00  16:00  17:00  18:00  19:00  20:00  21:00  22:00  \\\n",
       "0      1023  ...   1629   1985   2361   2694   2303   1839   1478    236   \n",
       "1       147  ...    191    255    280    317    252    164    111      7   \n",
       "2      5880  ...  10999  13027  15965  19123  15663  12918   9509    819   \n",
       "3        62  ...     55    128     99    109     68     46     27      1   \n",
       "4       410  ...    688    710    857    933    651    311    146      3   \n",
       "...     ...  ...    ...    ...    ...    ...    ...    ...    ...    ...   \n",
       "4297    204  ...    273    254     92      0      0      0      0      0   \n",
       "4298    295  ...    420    413    400    587    511    431    100      0   \n",
       "4299    282  ...    279    300    412    477    339    168     38      0   \n",
       "4300    693  ...    590    700    625    659    634    662     61      0   \n",
       "4301   1277  ...   1783   1899   1943   2308   1917   1613    328      0   \n",
       "\n",
       "      23:00  Grand Total (Number of passengers)  \n",
       "0         0                               25483  \n",
       "1         0                                3210  \n",
       "2         0                              166047  \n",
       "3         0                                 970  \n",
       "4         0                                7209  \n",
       "...     ...                                 ...  \n",
       "4297      0                                2389  \n",
       "4298      0                                4873  \n",
       "4299      0                                4758  \n",
       "4300      0                                7768  \n",
       "4301      0                               23961  \n",
       "\n",
       "[4302 rows x 24 columns]"
      ]
     },
     "execution_count": 25,
     "metadata": {},
     "output_type": "execute_result"
    }
   ],
   "source": [
    "df_affluence.drop(index=4, inplace= True) #deleting the row\n",
    "df_affluence.reset_index() #We need to reset the index since we cleaned the rows."
   ]
  },
  {
   "cell_type": "code",
   "execution_count": 26,
   "id": "b050f74a-a47a-44d2-9520-d44bd76c9ad8",
   "metadata": {},
   "outputs": [],
   "source": [
    "#Replacing 'LÍNEA T-A' for'LÍNEA T'\n",
    "df_affluence['Service_Line'] = df_affluence['Service_Line'].str.replace('LÍNEA T-A','LÍNEA T')"
   ]
  },
  {
   "cell_type": "markdown",
   "id": "bfd8cbce-523c-4fd4-ada2-568c5d8cb73c",
   "metadata": {},
   "source": [
    "Now lets see if there are any repetead rows"
   ]
  },
  {
   "cell_type": "code",
   "execution_count": 28,
   "id": "1c57d412-144e-453a-af64-15baae412425",
   "metadata": {},
   "outputs": [
    {
     "name": "stdout",
     "output_type": "stream",
     "text": [
      "Set size before deleting repeated rows: (4302, 23)\n",
      "Set size before deleting repeated rows: (4302, 23)\n"
     ]
    }
   ],
   "source": [
    "# Deleting repeated rows\n",
    "print(f'Set size before deleting repeated rows: {df_affluence.shape}')\n",
    "df_affluence.drop_duplicates(inplace=True)\n",
    "print(f'Set size before deleting repeated rows: {df_affluence.shape}')"
   ]
  },
  {
   "cell_type": "markdown",
   "id": "ee2f0d4f-9fa1-407f-b8dd-1cdbe6268550",
   "metadata": {},
   "source": [
    "- There are no repeated rows."
   ]
  },
  {
   "cell_type": "markdown",
   "id": "4a0e563b-e553-4c4e-9c11-9309eae271b4",
   "metadata": {},
   "source": [
    "## Checking columns"
   ]
  },
  {
   "cell_type": "markdown",
   "id": "335fcce3-6129-4b46-9c86-5667e80749b2",
   "metadata": {},
   "source": [
    "Lets check if there are any irrelevant columns"
   ]
  },
  {
   "cell_type": "code",
   "execution_count": 32,
   "id": "998ccc24-f7cd-4125-b53e-78d9b6cd73dd",
   "metadata": {},
   "outputs": [
    {
     "name": "stdout",
     "output_type": "stream",
     "text": [
      "Column \"Day\": 365 sublevels\n",
      "Column \"Service_Line\": 12 sublevels\n"
     ]
    }
   ],
   "source": [
    "#Checking irrelevant columns\n",
    "cat_columns = ['Day','Service_Line']\n",
    "\n",
    "for col in cat_columns:\n",
    "  print(f'Column \"{col}\": {df_affluence[col].nunique()} sublevels')"
   ]
  },
  {
   "cell_type": "markdown",
   "id": "c69359e8-df06-4dee-b9d4-287699b52ce3",
   "metadata": {},
   "source": [
    "- All categorical columns have more than 1 sublevel, so we won't delete any of them. Also, the \"Day\" column has 365 days, so it covers all 2023 year."
   ]
  },
  {
   "cell_type": "markdown",
   "id": "6bb47e36-00c4-4090-aa94-494d53c81b1c",
   "metadata": {},
   "source": [
    "# Reshaping data"
   ]
  },
  {
   "cell_type": "markdown",
   "id": "fcee632a-f9e0-4f1e-a1c7-2f8a380db2d6",
   "metadata": {},
   "source": [
    "The purpose of this is to significantly reduce the number of columns in our data."
   ]
  },
  {
   "cell_type": "code",
   "execution_count": 36,
   "id": "04971ff7-454e-4d4f-b292-d16f0a2e3464",
   "metadata": {},
   "outputs": [],
   "source": [
    "#Unpivot rows from 2 to 21, leaving two columns named \"time\", and \"value\"\n",
    "columns_to_pivot = ['04:00', '05:00', '06:00', '07:00', '08:00', '09:00', '10:00', '11:00','12:00', '13:00', '14:00', '15:00', '16:00', '17:00', '18:00', '19:00', '20:00', '21:00', '22:00', '23:00']\n",
    "columns_to_keep =[\"Day\",\"Service_Line\",\"Grand Total (Number of passengers)\"]\n",
    "df_reshaped = pd.melt(df_affluence, id_vars=columns_to_keep, value_vars=columns_to_pivot,var_name=\"Time\", value_name=\"Passengers\",ignore_index=\"False\")"
   ]
  },
  {
   "cell_type": "code",
   "execution_count": 37,
   "id": "0c73ed93-30e7-4cc6-b3f5-a42e0acf3775",
   "metadata": {},
   "outputs": [
    {
     "name": "stdout",
     "output_type": "stream",
     "text": [
      "<class 'pandas.core.frame.DataFrame'>\n",
      "RangeIndex: 86040 entries, 0 to 86039\n",
      "Data columns (total 5 columns):\n",
      " #   Column                              Non-Null Count  Dtype         \n",
      "---  ------                              --------------  -----         \n",
      " 0   Day                                 86040 non-null  datetime64[ns]\n",
      " 1   Service_Line                        86040 non-null  object        \n",
      " 2   Grand Total (Number of passengers)  86040 non-null  int64         \n",
      " 3   Time                                86040 non-null  object        \n",
      " 4   Passengers                          86040 non-null  int64         \n",
      "dtypes: datetime64[ns](1), int64(2), object(2)\n",
      "memory usage: 3.3+ MB\n"
     ]
    }
   ],
   "source": [
    "df_reshaped.info()"
   ]
  },
  {
   "cell_type": "code",
   "execution_count": 38,
   "id": "2fcd099b-0596-44fc-b903-76a67ac9fb5a",
   "metadata": {},
   "outputs": [],
   "source": [
    "#We now need to change \"Time\" column datatype, and merge columns \"Day\" and \"Time\"\n",
    "df_reshaped[\"Time\"] = pd.to_datetime(df_reshaped[\"Time\"], format='%H:%M').dt.time #Change \"Time\" column datatype\n",
    "df_reshaped[\"Day_and_Time\"] =pd.to_datetime(df_reshaped['Day'].astype(str) + ' ' + df_reshaped['Time'].astype(str))\n"
   ]
  },
  {
   "cell_type": "code",
   "execution_count": 39,
   "id": "5fc2782c-c85d-4459-b112-747aad666425",
   "metadata": {},
   "outputs": [],
   "source": [
    "#For blending purposes with another table, we will replace the word \"Línea\" from \"Service_Line\" Column to \"Line \"\n",
    "df_reshaped['Service_Line'] = df_reshaped['Service_Line'].str.replace('LÍNEA ', 'Line ')\n"
   ]
  },
  {
   "cell_type": "code",
   "execution_count": 40,
   "id": "7bc290fe-3ceb-4b44-8420-bed6677c92e0",
   "metadata": {},
   "outputs": [],
   "source": [
    "#Finally, we delete the irrelevant columns:\n",
    "df_reshaped.drop([\"Day\",\"Grand Total (Number of passengers)\",\"Time\"], axis=1, inplace=True)"
   ]
  },
  {
   "cell_type": "markdown",
   "id": "dd3f0653-9bb3-44f0-a59a-8cf08523b363",
   "metadata": {},
   "source": [
    "We can create a new column that tells us the day of the week, for deeper analysis"
   ]
  },
  {
   "cell_type": "code",
   "execution_count": 42,
   "id": "b2601064-5634-456e-9139-e0c1fb2dc5e1",
   "metadata": {},
   "outputs": [],
   "source": [
    "df_reshaped['Day_of_the_week'] = df_reshaped['Day_and_Time'].dt.day_name()"
   ]
  },
  {
   "cell_type": "markdown",
   "id": "1a5f8d82-bb19-46f7-b4ba-ea887f053be2",
   "metadata": {},
   "source": [
    "# Exporting the DataFrame"
   ]
  },
  {
   "cell_type": "markdown",
   "id": "1661ad47-e49f-4c4a-af6f-28270d962a24",
   "metadata": {},
   "source": [
    "Finally, we export the cleaned Dataframe"
   ]
  },
  {
   "cell_type": "code",
   "execution_count": 45,
   "id": "1d861625-09d8-4b16-8536-54d06a7ce52f",
   "metadata": {},
   "outputs": [
    {
     "name": "stdout",
     "output_type": "stream",
     "text": [
      "File has been created succesfully\n"
     ]
    }
   ],
   "source": [
    "filename = f'data/Exported_data/Affluence_2023.csv' #path for the cleaned Affluence_2023 csv data\n",
    "df_reshaped.to_csv(filename, index=False)\n",
    "print(\"File has been created succesfully\")"
   ]
  }
 ],
 "metadata": {
  "kernelspec": {
   "display_name": "Python 3 (ipykernel)",
   "language": "python",
   "name": "python3"
  },
  "language_info": {
   "codemirror_mode": {
    "name": "ipython",
    "version": 3
   },
   "file_extension": ".py",
   "mimetype": "text/x-python",
   "name": "python",
   "nbconvert_exporter": "python",
   "pygments_lexer": "ipython3",
   "version": "3.12.3"
  }
 },
 "nbformat": 4,
 "nbformat_minor": 5
}
