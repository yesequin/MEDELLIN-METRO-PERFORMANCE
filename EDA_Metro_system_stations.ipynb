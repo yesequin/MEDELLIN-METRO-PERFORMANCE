{
 "cells": [
  {
   "cell_type": "markdown",
   "id": "07c02f04-0477-4741-bc4e-39a7cc8afe39",
   "metadata": {},
   "source": [
    "**The data used in the Notebook was taken from the Medellin Metro open data website.** https://datosabiertos-metrodemedellin.opendata.arcgis.com/search?categories=%252Fcategories%252Fmovilidad"
   ]
  },
  {
   "cell_type": "code",
   "execution_count": 2,
   "id": "fc5bfe1d-6c0f-4426-9f57-b2d8f8e99b1c",
   "metadata": {},
   "outputs": [],
   "source": [
    "#IMPORT LIBRARIES\n",
    "import pandas as pd\n",
    "import geopandas as gpd\n",
    "import shapely\n",
    "from shapely.geometry import LineString"
   ]
  },
  {
   "cell_type": "code",
   "execution_count": 3,
   "id": "70510ff9-1ca0-4c65-9807-b30393e3a5bc",
   "metadata": {},
   "outputs": [],
   "source": [
    "# IMPORT THE DATA INTO THE STRUCTURE OF A DATAFRAME\n",
    "df = pd.read_csv('data/Estaciones_Sistema_Metro.csv')\n",
    "df_stations = df[df['sentido']!='B']"
   ]
  },
  {
   "cell_type": "code",
   "execution_count": 4,
   "id": "546d7093-14a1-431e-93c2-f45fc5d7bc6f",
   "metadata": {},
   "outputs": [
    {
     "name": "stdout",
     "output_type": "stream",
     "text": [
      "<class 'pandas.core.frame.DataFrame'>\n",
      "Index: 113 entries, 0 to 153\n",
      "Data columns (total 9 columns):\n",
      " #   Column    Non-Null Count  Dtype  \n",
      "---  ------    --------------  -----  \n",
      " 0   X         113 non-null    float64\n",
      " 1   Y         113 non-null    float64\n",
      " 2   objectid  113 non-null    int64  \n",
      " 3   linea     113 non-null    object \n",
      " 4   estacion  113 non-null    int64  \n",
      " 5   sentido   113 non-null    object \n",
      " 6   sistema   113 non-null    object \n",
      " 7   label     113 non-null    object \n",
      " 8   tipo      113 non-null    int64  \n",
      "dtypes: float64(2), int64(3), object(4)\n",
      "memory usage: 8.8+ KB\n"
     ]
    }
   ],
   "source": [
    "df_stations.info()"
   ]
  },
  {
   "cell_type": "markdown",
   "id": "8446b5ed-c12c-4125-b593-9badbc3d40e2",
   "metadata": {},
   "source": [
    "To create a LineString object we have to arrange the points(x,y) in a specific order, given by the dictionary sorter_lines"
   ]
  },
  {
   "cell_type": "code",
   "execution_count": 6,
   "id": "ba2c5d19-0ba8-416e-8177-51ada47f5639",
   "metadata": {},
   "outputs": [],
   "source": [
    "sorter_lines = { \n",
    "    \"1\": [76,87,88,89,90,91,92,94,69,68,67,66,99, 100, 101, 102, 103, 104, 105, 106, 58],\n",
    "    \"2\": [112,114,116,118,120,135,84,83,82,81,80,79,77,121,122,124,126,128,130,132,134],\n",
    "    \"A\": [22,21,20,1,2,3,4,5,6,7,8,10,11,12,13,14,23,24,25,26,27],\n",
    "    \"B\":[28,9,15,16,17,18,19],\n",
    "    \"H\":[37,39,43],\n",
    "    \"J\":[35,34,33,44],\n",
    "    \"K\": [30,31,32,41],\n",
    "    \"L\":[29,40],\n",
    "    \"M\":[36,38,42],\n",
    "    \"O\":[140,141,142,143,144,145,146,147,148,149,150,151,152,153],\n",
    "    \"P\":[45,46,47,48],\n",
    "    \"T\":[52,49,51,56,55,50,53,54,57] \n",
    "} #A dictionary that stores the order of every station point, so we can create the LineString object.\n",
    "\n",
    "def create_geodataframe_file(df_stations):\n",
    "    unique_lines = df_stations['linea'].unique()\n",
    "    geojson_filename = f'data/Exported_data/Metro_lines_GeoInfo.geojson' #path for the new GeoDataframe\n",
    "\n",
    "    list_gdf =[] #A list with the information we need: Line name, and Geometry information as a LineString object\n",
    "    \n",
    "    for line in unique_lines:\n",
    "        line_df = df_stations[df_stations['linea'] == line]\n",
    "\n",
    "        new_df = pd.DataFrame({ #Creating a new dataFrame for each line, with only the information we need to create the Point(x,y) object, and the LineString object.\n",
    "            'Latitude': line_df['Y'].astype(float),\n",
    "            'Longitude': line_df['X'].astype(float),\n",
    "            'Station': line_df['label'],\n",
    "            'Order_id': line_df['objectid']\n",
    "        })\n",
    "        \n",
    "        new_df['Order_id'] = pd.Categorical(new_df['Order_id'], categories=sorter_lines[line], ordered=True) #we need to convert it to a categorical value in order to sort it\n",
    "        new_df = new_df.sort_values([\"Order_id\"])\n",
    "        new_df['Order_id'] = new_df['Order_id'].astype(str) #we need to convert it as a str type so we can create the GeoDataframe\n",
    "\n",
    "        lat_long_list = gpd.points_from_xy(new_df.Longitude, new_df.Latitude) #Point(x,y) list\n",
    "        \n",
    "        # Convert the DataFrame to a GeoDataFrame\n",
    "        gdf = gpd.GeoDataFrame(new_df, geometry=lat_long_list)      \n",
    "\n",
    "        #Create a linestring object from the ordered points\n",
    "        line_geom = LineString(gdf.geometry.tolist())\n",
    "\n",
    "        # Create a new GeoDataFrame with a single row representing each line\n",
    "        list_gdf.append({'Service_Line': f'Line {line}', \"geometry\": line_geom})\n",
    "\n",
    "    main_gdf = gpd.GeoDataFrame(list_gdf, crs=\"EPSG:4326\") #The GeoDataFrame with a row for each metro line. EPSG 4326 provides a full coordinate reference system\n",
    "\n",
    "    # Export the GeoDataFrame as a GeoJson file\n",
    "    main_gdf.to_file(geojson_filename, driver=\"GeoJSON\")\n",
    "\n",
    "create_geodataframe_file(df_stations)"
   ]
  }
 ],
 "metadata": {
  "kernelspec": {
   "display_name": "Python 3 (ipykernel)",
   "language": "python",
   "name": "python3"
  },
  "language_info": {
   "codemirror_mode": {
    "name": "ipython",
    "version": 3
   },
   "file_extension": ".py",
   "mimetype": "text/x-python",
   "name": "python",
   "nbconvert_exporter": "python",
   "pygments_lexer": "ipython3",
   "version": "3.12.3"
  }
 },
 "nbformat": 4,
 "nbformat_minor": 5
}
